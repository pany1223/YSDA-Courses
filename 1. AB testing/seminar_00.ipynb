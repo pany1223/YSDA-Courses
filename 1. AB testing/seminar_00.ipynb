{
  "cells": [
    {
      "cell_type": "markdown",
      "metadata": {
        "id": "E9a-scVbO_OJ"
      },
      "source": [
        "1. Генерация случайных величин\n",
        "2. Оценка параметра с помощью ОМП численно\n",
        "3. Построение ДИ"
      ]
    },
    {
      "cell_type": "code",
      "execution_count": null,
      "metadata": {
        "id": "kyPBFcDnb4e3"
      },
      "outputs": [],
      "source": [
        "import numpy as np\n",
        "from scipy import stats\n",
        "import matplotlib.pyplot as plt"
      ]
    },
    {
      "cell_type": "code",
      "execution_count": null,
      "metadata": {
        "id": "p8UnEOQ9WIVE"
      },
      "outputs": [],
      "source": [
        "plt.rcParams['legend.markerscale'] = 1.5     # the relative size of legend markers vs. original\n",
        "plt.rcParams['legend.handletextpad'] = 0.5\n",
        "plt.rcParams['legend.labelspacing'] = 0.4    # the vertical space between the legend entries in fraction of fontsize\n",
        "plt.rcParams['legend.borderpad'] = 0.5       # border whitespace in fontsize units\n",
        "plt.rcParams['font.size'] = 12\n",
        "plt.rcParams['font.serif'] = 'Times New Roman'\n",
        "plt.rcParams['axes.labelsize'] = 22\n",
        "plt.rcParams['axes.titlesize'] = 24\n",
        "plt.rcParams['figure.figsize'] = (10, 6)\n",
        "\n",
        "plt.rc('xtick', labelsize=18)\n",
        "plt.rc('ytick', labelsize=18)\n",
        "plt.rc('legend', fontsize=22)"
      ]
    },
    {
      "cell_type": "markdown",
      "metadata": {
        "id": "tfEK0_QCbHok"
      },
      "source": [
        "# 1. Генерация выборок\n",
        "## 1.1. Модуль np.random\n",
        "`np.random.rand` - Create an array of the given shape and populate it with random samples from a uniform distribution over [0, 1)"
      ]
    },
    {
      "cell_type": "code",
      "execution_count": null,
      "metadata": {
        "colab": {
          "base_uri": "https://localhost:8080/"
        },
        "id": "l5byrHSrRO5D",
        "outputId": "04a1c1fc-845d-4b18-e85d-6eba64fcfa97"
      },
      "outputs": [
        {
          "name": "stdout",
          "output_type": "stream",
          "text": [
            "[0.204 0.497 0.015 0.068]\n",
            "[0.488 0.935 0.863 0.976]\n",
            "[0.552 0.822 0.16  0.191]\n"
          ]
        }
      ],
      "source": [
        "for _ in range(3):\n",
        "    print(np.random.rand(4).round(3))"
      ]
    },
    {
      "cell_type": "markdown",
      "metadata": {
        "id": "5pe-YBBQcEP8"
      },
      "source": [
        "Как зафиксировать состояния генератора случайных чисел?"
      ]
    },
    {
      "cell_type": "code",
      "execution_count": null,
      "metadata": {
        "colab": {
          "base_uri": "https://localhost:8080/"
        },
        "id": "E1xAVSrpbaCJ",
        "outputId": "5a3d8671-97fd-460b-b9e0-70730bfee4b4"
      },
      "outputs": [
        {
          "name": "stdout",
          "output_type": "stream",
          "text": [
            "[0.115 0.609 0.133 0.241]\n",
            "[0.115 0.609 0.133 0.241]\n",
            "[0.115 0.609 0.133 0.241]\n"
          ]
        }
      ],
      "source": [
        "for _ in range(3):\n",
        "    # <YOUR_CODE_HERE>\n",
        "    np.random.seed(43)\n",
        "    print(np.random.rand(4).round(3))"
      ]
    },
    {
      "cell_type": "markdown",
      "metadata": {
        "id": "Ay1ylsbngNo4"
      },
      "source": [
        "## 1.2. Нормальное распределение\n",
        "Как генерировать данные из нормального распределения и из других распределений\n",
        "https://numpy.org/doc/stable/reference/random/legacy.html#distributions"
      ]
    },
    {
      "cell_type": "code",
      "execution_count": null,
      "metadata": {
        "colab": {
          "base_uri": "https://localhost:8080/"
        },
        "id": "XhkuFfhrQpDz",
        "outputId": "c0020d0f-77e9-49e7-e292-2b7b613c835f"
      },
      "outputs": [
        {
          "data": {
            "text/plain": [
              "array([6.71614669, 4.17398004, 5.99637717, 9.0203985 , 7.52572309,\n",
              "       4.12157029, 4.30712421, 5.91063932, 1.66267459, 3.27582901])"
            ]
          },
          "execution_count": 5,
          "metadata": {},
          "output_type": "execute_result"
        }
      ],
      "source": [
        "mean = 5\n",
        "std = 2\n",
        "size = 1000\n",
        "\n",
        "data = np.random.normal(mean, std, size)\n",
        "data[:10]"
      ]
    },
    {
      "cell_type": "markdown",
      "metadata": {
        "id": "eYms_6-qDDt6"
      },
      "source": [
        "#### Построим гистограмму"
      ]
    },
    {
      "cell_type": "code",
      "execution_count": null,
      "metadata": {
        "id": "Cz2pyiPJDDt6",
        "outputId": "e5b4fad9-3712-4f16-ec67-a44449818f0d"
      },
      "outputs": [
        {
          "data": {
            "image/png": "[encoded data removed]",
            "text/plain": [
              "<Figure size 720x432 with 1 Axes>"
            ]
          },
          "metadata": {
            "needs_background": "light"
          },
          "output_type": "display_data"
        }
      ],
      "source": [
        "plt.hist(data, bins=50)\n",
        "plt.show()"
      ]
    },
    {
      "cell_type": "markdown",
      "metadata": {
        "id": "kfmutDRwiiKD"
      },
      "source": [
        "## 1.3. Модуль scipy.stats\n",
        "`Statistical functions (scipy.stats)` - this module contains a large number of probability distributions, summary and frequency statistics, correlation functions and statistical tests, masked statistics, kernel density estimation, quasi-Monte Carlo functionality, and more."
      ]
    },
    {
      "cell_type": "code",
      "execution_count": null,
      "metadata": {
        "colab": {
          "base_uri": "https://localhost:8080/"
        },
        "id": "UExHaTNCQ3Pn",
        "outputId": "a442b975-fae5-4632-e960-de270a100ca0"
      },
      "outputs": [
        {
          "data": {
            "text/plain": [
              "0.19947114020071635"
            ]
          },
          "execution_count": 7,
          "metadata": {},
          "output_type": "execute_result"
        }
      ],
      "source": [
        "stats.norm.pdf(5, loc=mean, scale=std)"
      ]
    },
    {
      "cell_type": "markdown",
      "metadata": {
        "id": "jVzAeFE6DDt7"
      },
      "source": [
        "#### Построим функцию плотности нормального распределения"
      ]
    },
    {
      "cell_type": "code",
      "execution_count": null,
      "metadata": {
        "id": "MQ3kcaK4DDt7",
        "outputId": "9ec2615d-7a00-4ae3-ba0b-d75d7ad1ab6c"
      },
      "outputs": [
        {
          "data": {
            "image/png": "[encoded data removed]",
            "text/plain": [
              "<Figure size 720x432 with 1 Axes>"
            ]
          },
          "metadata": {
            "needs_background": "light"
          },
          "output_type": "display_data"
        }
      ],
      "source": [
        "x = np.linspace(0, 10, 1000)\n",
        "y = stats.norm.pdf(x, loc=mean, scale=std)\n",
        "plt.hist(data, bins=50, density=True)\n",
        "plt.plot(x, y)\n",
        "plt.show()"
      ]
    },
    {
      "cell_type": "markdown",
      "metadata": {
        "id": "-BNKXD9eSHZ-"
      },
      "source": [
        "## 1.4. Выбор подмножества элементов"
      ]
    },
    {
      "cell_type": "code",
      "execution_count": null,
      "metadata": {
        "id": "zLbSLzOUDDt7"
      },
      "outputs": [],
      "source": [
        "data = [1, 2, 3, 4, 5]"
      ]
    },
    {
      "cell_type": "code",
      "execution_count": null,
      "metadata": {
        "id": "iOJKSe2BDDt8",
        "outputId": "9d01a941-ff07-4d56-c4e4-f9999fafc079"
      },
      "outputs": [
        {
          "data": {
            "text/plain": [
              "array([5, 2, 3, 4])"
            ]
          },
          "execution_count": 10,
          "metadata": {},
          "output_type": "execute_result"
        }
      ],
      "source": [
        "np.random.choice(data, 4, replace=False)  # без повторений"
      ]
    },
    {
      "cell_type": "markdown",
      "metadata": {
        "id": "8yVFtLodDDt8"
      },
      "source": [
        "#### Генерация двух подвыборок"
      ]
    },
    {
      "cell_type": "code",
      "execution_count": null,
      "metadata": {
        "id": "L5whej62DDt8",
        "outputId": "6bfbf840-1e18-4713-f3f9-4ffb38702b33"
      },
      "outputs": [
        {
          "data": {
            "text/plain": [
              "(array([2, 4]), array([3, 1]))"
            ]
          },
          "execution_count": 11,
          "metadata": {},
          "output_type": "execute_result"
        }
      ],
      "source": [
        "a, b = np.random.choice(data, [2,2], replace=False)\n",
        "a, b"
      ]
    },
    {
      "cell_type": "markdown",
      "metadata": {
        "id": "37lPfrN-lh4V"
      },
      "source": [
        "# 2. ОМП для параметра $p$ распределения Бернулли\n",
        "Сгенерируем выборку из р-ния Бернулли."
      ]
    },
    {
      "cell_type": "code",
      "execution_count": null,
      "metadata": {
        "colab": {
          "base_uri": "https://localhost:8080/"
        },
        "id": "ExARqQkOkV8P",
        "outputId": "ae610a97-ec78-489c-8252-6647b0ad21c6"
      },
      "outputs": [
        {
          "data": {
            "text/plain": [
              "array([1, 0, 1, 0, 0, 0, 0, 0, 0, 1, 0, 1, 0, 0, 0, 1, 0, 0, 0, 0])"
            ]
          },
          "execution_count": 12,
          "metadata": {},
          "output_type": "execute_result"
        }
      ],
      "source": [
        "p_real = 0.3\n",
        "size = 20\n",
        "\n",
        "data = np.random.binomial(1, p_real, size)\n",
        "data"
      ]
    },
    {
      "cell_type": "code",
      "execution_count": null,
      "metadata": {
        "colab": {
          "base_uri": "https://localhost:8080/"
        },
        "id": "NJzS0aDgnq-B",
        "outputId": "de8563e9-efd4-4204-92c4-bdf0f1d796aa"
      },
      "outputs": [
        {
          "name": "stdout",
          "output_type": "stream",
          "text": [
            "Оценка параметра по теоретической формуле: 0.25\n"
          ]
        }
      ],
      "source": [
        "p_estimation = np.mean(data)\n",
        "print('Оценка параметра по теоретической формуле:', p_estimation)"
      ]
    },
    {
      "cell_type": "markdown",
      "metadata": {
        "id": "-0rE5-wDmO2w"
      },
      "source": [
        "Численно оценим максимум функции правдоподобия."
      ]
    },
    {
      "cell_type": "code",
      "execution_count": null,
      "metadata": {
        "colab": {
          "base_uri": "https://localhost:8080/",
          "height": 313
        },
        "id": "_vAqh2DkmHQO",
        "outputId": "1f99cda8-2961-45c6-d39d-106d8ce1c541"
      },
      "outputs": [
        {
          "name": "stdout",
          "output_type": "stream",
          "text": [
            "p_max_likelihood = 0.250\n"
          ]
        },
        {
          "data": {
            "image/png": "[encoded data removed]",
            "text/plain": [
              "<Figure size 720x432 with 1 Axes>"
            ]
          },
          "metadata": {
            "needs_background": "light"
          },
          "output_type": "display_data"
        }
      ],
      "source": [
        "def get_likelihood(data: np.array, p: float):\n",
        "    \"\"\"Вычисляет значение функции правдоподобия р-ния Бернулли.\n",
        "\n",
        "    data - реализация выборки\n",
        "    p - параметр р-ния Бренулли\n",
        "    \"\"\"\n",
        "    # <YOUR_CODE_HERE>\n",
        "\n",
        "\n",
        "array_p = np.linspace(0.1, 0.9, 1000)\n",
        "likelihoods = [get_likelihood(data, p) for p in array_p]\n",
        "\n",
        "max_likelihood = np.max(likelihoods)\n",
        "p_max_likelihood = array_p[likelihoods == max_likelihood][0]\n",
        "print(f'p_max_likelihood = {p_max_likelihood:0.3f}')\n",
        "\n",
        "plt.plot(array_p, likelihoods)\n",
        "plt.scatter([p_max_likelihood], [max_likelihood])\n",
        "plt.grid()\n",
        "plt.show()"
      ]
    },
    {
      "cell_type": "markdown",
      "metadata": {
        "id": "ptte4TqqrFdD"
      },
      "source": [
        "Оценки параметра $p$ совпали?\n",
        "\n",
        "# 3. ДИ параметра $p$ р-ния Бернулли\n",
        "\n",
        "## 3.1. Напишем функцию для построения доверительного интервала.\n",
        "$$\n",
        "    \\mathbb{P} \\left( \\overline{X} - c_{\\alpha} \\sqrt{\\frac{\\overline{X} (1 - \\overline{X})}{n}} \\leq p \\leq \\overline{X} + c_{\\alpha} \\sqrt{\\frac{\\overline{X} (1 - \\overline{X})}{n}} \\right) = 1 - \\alpha\n",
        "$$\n",
        "\n",
        "Как вычислить $c_{\\alpha}$ ?"
      ]
    },
    {
      "cell_type": "code",
      "execution_count": null,
      "metadata": {
        "colab": {
          "base_uri": "https://localhost:8080/",
          "height": 279
        },
        "id": "hEgKwkrXBNz1",
        "outputId": "c0ebe7c9-849c-46b9-e108-6210225c31b3"
      },
      "outputs": [
        {
          "data": {
            "image/png": "[encoded data removed]",
            "text/plain": [
              "<Figure size 720x432 with 1 Axes>"
            ]
          },
          "metadata": {
            "needs_background": "light"
          },
          "output_type": "display_data"
        }
      ],
      "source": [
        "alpha = 0.05\n",
        "\n",
        "x = np.linspace(-5, 5, 100)\n",
        "cdf = stats.norm.cdf(x)\n",
        "\n",
        "plt.plot(x, cdf, label='cdf')\n",
        "plt.plot([-4, 4], [alpha / 2] * 2, 'red', label='alpha / 2')\n",
        "plt.plot([-4, 4], [1 - alpha / 2] * 2, 'orange', label='1 - alpha / 2')\n",
        "\n",
        "plt.xlabel('x')\n",
        "plt.legend()\n",
        "plt.grid()\n",
        "plt.show()"
      ]
    },
    {
      "cell_type": "markdown",
      "metadata": {
        "id": "abBebjDRDfQD"
      },
      "source": [
        "ppf - Percent point function (inverse of cdf — percentiles), это развернутая куммулятивная функция распределения\n",
        "\n",
        "Подробнее про `scipy.stats.norm` тут\n",
        "https://docs.scipy.org/doc/scipy/reference/generated/scipy.stats.norm.html"
      ]
    },
    {
      "cell_type": "code",
      "execution_count": null,
      "metadata": {
        "colab": {
          "base_uri": "https://localhost:8080/"
        },
        "id": "ln5nsZCKEHno",
        "outputId": "c37dfe7d-bc7c-4db9-d7bf-eb9c0e0cec1e"
      },
      "outputs": [
        {
          "data": {
            "text/plain": [
              "1.959963984540054"
            ]
          },
          "execution_count": 16,
          "metadata": {},
          "output_type": "execute_result"
        }
      ],
      "source": [
        "stats.norm.ppf(1 - alpha / 2)"
      ]
    },
    {
      "cell_type": "code",
      "execution_count": null,
      "metadata": {
        "id": "I6KXFbL3nlHW"
      },
      "outputs": [],
      "source": [
        "def get_confidence_interval(data: np.array, alpha: float=0.05):\n",
        "    \"\"\"Возвращает доверительный интервал.\"\"\"\n",
        "    # <YOUR_CODE_HERE>\n",
        ""
      ]
    },
    {
      "cell_type": "markdown",
      "metadata": {
        "id": "6u__zvMsImzj"
      },
      "source": [
        "Проверим что функция выдаёт верный результат на одном тесте в следующей ячейке"
      ]
    },
    {
      "cell_type": "code",
      "execution_count": null,
      "metadata": {
        "colab": {
          "base_uri": "https://localhost:8080/"
        },
        "id": "37fDyccpFMTc",
        "outputId": "f6685302-dd39-4419-9474-ea174c20c8c9"
      },
      "outputs": [
        {
          "name": "stdout",
          "output_type": "stream",
          "text": [
            "your bounds = (-0.200101, 0.866768)\n",
            "Тест пройден!\n"
          ]
        }
      ],
      "source": [
        "EPS = 5\n",
        "\n",
        "bounds = get_confidence_interval(np.array([0, 0, 1]))\n",
        "print(f'your bounds = ({bounds[0]:0.6f}, {bounds[1]:0.6f})')\n",
        "true_bounds = (-0.200101, 0.866768)\n",
        "\n",
        "np.testing.assert_almost_equal(\n",
        "    true_bounds, bounds,\n",
        "    decimal=EPS,\n",
        "    err_msg=f'Одна из границ отличается более чем на {1 / 10**EPS}'\n",
        ")\n",
        "print('Тест пройден!')"
      ]
    },
    {
      "cell_type": "markdown",
      "metadata": {
        "id": "1lr6_5Q9FWUH"
      },
      "source": [
        "## 3.2. Проверим, что ДИ накрывает оцениваемый параметр с вероятность $1-\\alpha$.\n",
        "\n",
        "Зафиксируем параметр $p$. Будем генерировать выборки, строить доверительные интервалы и проверять находится оцениваем параметр в ДИ или нет. Посчитаем долю случаев, когда ДИ не накрыл параметр, она должна быть примерно равна $\\alpha$."
      ]
    },
    {
      "cell_type": "code",
      "execution_count": null,
      "metadata": {
        "id": "qcawCEWqHUzU"
      },
      "outputs": [],
      "source": [
        "# <YOUR_CODE_HERE>\n",
        "\n"
      ]
    },
    {
      "cell_type": "code",
      "execution_count": null,
      "metadata": {
        "id": "hJ76CutlDDt-",
        "outputId": "9f4da8f7-1572-4b93-cafd-b40e77cfd861"
      },
      "outputs": [
        {
          "data": {
            "text/plain": [
              "0.95"
            ]
          },
          "execution_count": 20,
          "metadata": {},
          "output_type": "execute_result"
        }
      ],
      "source": [
        "np.mean(res)"
      ]
    },
    {
      "cell_type": "markdown",
      "metadata": {
        "id": "g_8BXSxRLJyh"
      },
      "source": [
        "## 3.3. Изменение ДИ при увеличении выборки\n",
        "Посмотрим как меняется ДИ при увеличении размера выборки"
      ]
    },
    {
      "cell_type": "code",
      "execution_count": null,
      "metadata": {
        "colab": {
          "base_uri": "https://localhost:8080/",
          "height": 283
        },
        "id": "gQntafAGKWKK",
        "outputId": "aa93efec-cb4e-416e-b38e-5b5c936fec99"
      },
      "outputs": [
        {
          "data": {
            "image/png": "[encoded data removed]",
            "text/plain": [
              "<Figure size 720x432 with 1 Axes>"
            ]
          },
          "metadata": {
            "needs_background": "light"
          },
          "output_type": "display_data"
        }
      ],
      "source": [
        "max_size = 10 ** 6\n",
        "\n",
        "p = 0.24\n",
        "data = np.random.binomial(1, p, max_size)\n",
        "\n",
        "sizes = np.logspace(1, 6, 20).astype(int)\n",
        "left_bounds = []\n",
        "right_bounds = []\n",
        "p_estimations = []\n",
        "for size in sizes:\n",
        "    sub_data = data[:size]\n",
        "    p_estimations.append(sub_data.mean())\n",
        "    ci = get_confidence_interval(sub_data)\n",
        "    left_bounds.append(ci[0])\n",
        "    right_bounds.append(ci[1])\n",
        "\n",
        "plt.plot([10, max_size], [p, p], 'k', label='p')\n",
        "plt.plot(sizes, p_estimations, '-o', label='p_est')\n",
        "plt.fill_between(sizes, left_bounds, right_bounds, alpha=0.2, label='CI')\n",
        "plt.xscale('log')\n",
        "plt.xlabel('size')\n",
        "\n",
        "plt.show()"
      ]
    },
    {
      "cell_type": "markdown",
      "metadata": {
        "id": "zOGo7IZCN-x7"
      },
      "source": [
        "При повторных запусках доверительные интервалы при малых объёмах данных сильно меняются, но при увеличении размера выборки сходятся к истинному значению параметра."
      ]
    }
  ],
  "metadata": {
    "colab": {
      "name": "seminar_00.ipynb",
      "provenance": []
    },
    "kernelspec": {
      "display_name": "Python 3",
      "language": "python",
      "name": "python3"
    },
    "language_info": {
      "codemirror_mode": {
        "name": "ipython",
        "version": 3
      },
      "file_extension": ".py",
      "mimetype": "text/x-python",
      "name": "python",
      "nbconvert_exporter": "python",
      "pygments_lexer": "ipython3",
      "version": "3.8.3"
    }
  },
  "nbformat": 4,
  "nbformat_minor": 0
}